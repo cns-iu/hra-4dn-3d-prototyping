{
 "cells": [
  {
   "cell_type": "markdown",
   "metadata": {},
   "source": [
    "# A notebook to reproduce a 3D visualization of cell nuclei for 4DN"
   ]
  },
  {
   "cell_type": "markdown",
   "metadata": {},
   "source": [
    "# Import libraries"
   ]
  },
  {
   "cell_type": "code",
   "execution_count": 1,
   "metadata": {},
   "outputs": [],
   "source": [
    "import pandas as pd\n",
    "import numpy as np\n",
    "from matplotlib import cm\n",
    "import napari\n",
    "from scipy.spatial import ConvexHull"
   ]
  },
  {
   "cell_type": "markdown",
   "metadata": {},
   "source": [
    "# Load data"
   ]
  },
  {
   "cell_type": "code",
   "execution_count": 2,
   "metadata": {},
   "outputs": [],
   "source": [
    "# Define paths\n",
    "fl_dna, fl_protein, fl_rna = ['data/7_27_2019__Conv_zscan_09__cell9_DNA.csv', # was _Protein in original code for some reason\n",
    "                              'data/7_27_2019__Conv_zscan_09__cell9_Protein.csv', \n",
    "                              'data/7_27_2019__Conv_zscan_09__cell9_RNA.csv']\n",
    "\n",
    "# Load datasets as DataFrames\n",
    "df_dna = pd.read_csv(fl_dna)\n",
    "df_prot = pd.read_csv(fl_protein)\n",
    "df_rna = pd.read_csv(fl_rna)"
   ]
  },
  {
   "cell_type": "markdown",
   "metadata": {},
   "source": [
    "# Preprocess data"
   ]
  },
  {
   "cell_type": "code",
   "execution_count": 3,
   "metadata": {},
   "outputs": [
    {
     "name": "stderr",
     "output_type": "stream",
     "text": [
      "/var/folders/x7/ttglg94d4g500ypbdkw3__nw0000gq/T/ipykernel_42906/2231830169.py:27: FutureWarning: Argument 'edge_width' is deprecated, please use 'border_width' instead. The argument 'edge_width' was deprecated in 0.5.0 and it will be removed in 0.6.0.\n",
      "  V.add_points(XP[keepP],size=0.1,face_color='cyan',edge_width=0,shading='spherical',name = 'nucleoli')\n",
      "/var/folders/x7/ttglg94d4g500ypbdkw3__nw0000gq/T/ipykernel_42906/2231830169.py:29: FutureWarning: Argument 'edge_width' is deprecated, please use 'border_width' instead. The argument 'edge_width' was deprecated in 0.5.0 and it will be removed in 0.6.0.\n",
      "  V.add_points(XP[keepP],size=0.1,face_color='yellow',edge_width=0,shading='spherical',name = 'speckles')\n",
      "/var/folders/x7/ttglg94d4g500ypbdkw3__nw0000gq/T/ipykernel_42906/2231830169.py:53: FutureWarning: Argument 'edge_width' is deprecated, please use 'border_width' instead. The argument 'edge_width' was deprecated in 0.5.0 and it will be removed in 0.6.0.\n",
      "  V.add_points(XR,size=0.4*bRn+0.1,face_color=colsR,edge_width=0,shading='spherical',name='nascentRNA')\n"
     ]
    },
    {
     "data": {
      "text/plain": [
       "<Points layer 'nascentRNA' at 0x341f7d7c0>"
      ]
     },
     "execution_count": 3,
     "metadata": {},
     "output_type": "execute_result"
    }
   ],
   "source": [
    "# Get 3D positions for chromosomes\n",
    "X = np.array(df_dna[['z','x','y']])\n",
    "\n",
    "# Preprocess chromosomes\n",
    "chrs = [nm.split(':')[0] for nm in df_dna['genomic_coordinate']]\n",
    "ichrs = np.arange(23)\n",
    "ichrs_ = ichrs/np.max(ichrs)\n",
    "\n",
    "\n",
    "cols_chr = {'chr'+(str(i+1) if i<=21 else 'X'):cm.rainbow(ichrs_[i]) for i in ichrs}\n",
    "cols = np.array([cols_chr[chr] for chr in chrs])\n",
    "keep = ~np.any(np.isnan(X),axis=-1)\n",
    "\n",
    "\n",
    "# Intialize Napari viewer\n",
    "V = napari.Viewer()\n",
    "\n",
    "# Add DNA as points\n",
    "V.add_points(X[keep],size=0.2,face_color=cols[keep],shading='spherical',name='DNA')\n",
    "\n",
    " \n",
    "# Add proteins\n",
    "XP = np.array(df_prot[['z','x','y']])\n",
    "keepP = df_prot['protein']=='nucleoli'\n",
    "\n",
    "# Add proteins to viewer\n",
    "V.add_points(XP[keepP],size=0.1,face_color='cyan',edge_width=0,shading='spherical',name = 'nucleoli')\n",
    "keepP = df_prot['protein']=='speckles'\n",
    "V.add_points(XP[keepP],size=0.1,face_color='yellow',edge_width=0,shading='spherical',name = 'speckles')\n",
    "\n",
    "# Get convex hull\n",
    "hull = ConvexHull(X[keep])\n",
    "hulls = hull.points[hull.simplices]\n",
    "V.add_shapes(hulls, shape_type='polygon',edge_width=0.1, edge_color='gray', face_color='gray', name='lamina')\n",
    "\n",
    "# Add 3D positions for RNA\n",
    "XR = np.array(df_rna[['z','x','y']])\n",
    "bR = df_rna['brightness']\n",
    "vmax = np.percentile(bR,99)\n",
    "bRn = np.clip(bR/vmax,0,1)\n",
    "ugenes = list(np.unique(df_rna['gene']))\n",
    "gns = list(df_rna['gene'])\n",
    "\n",
    "# Define and apply colors\n",
    "colsRu = [\"#e6194B\", \"#3cb44b\", \"#ffe119\", \"#4363d8\", \"#f58231\", \"#911eb4\", \"#42d4f4\", \"#f032e6\", \"#bfef45\",\n",
    "\n",
    "        \"#fabed4\", \"#469990\", \"#dcbeff\", \"#9A6324\", \"#fffac8\", \"#800000\", \"#aaffc3\", \"#808000\", \"#ffd8b1\",\n",
    "\n",
    "        \"#000075\", \"#a9a9a9\"]\n",
    "colsR = [colsRu[gns.index(gn)%len(colsRu)] for gn in gns]\n",
    "\n",
    "# Add 3D oints for nascent RNA\n",
    "V.add_points(XR,size=0.4*bRn+0.1,face_color=colsR,edge_width=0,shading='spherical',name='nascentRNA')"
   ]
  },
  {
   "cell_type": "markdown",
   "metadata": {},
   "source": [
    "# Run Napari"
   ]
  },
  {
   "cell_type": "code",
   "execution_count": 4,
   "metadata": {},
   "outputs": [
    {
     "name": "stderr",
     "output_type": "stream",
     "text": [
      "2024-08-01 10:37:50.583 Python[42906:20094184] WARNING: Secure coding is not enabled for restorable state! Enable secure coding by implementing NSApplicationDelegate.applicationSupportsSecureRestorableState: and returning YES.\n"
     ]
    }
   ],
   "source": [
    "# Start Napari event loop\n",
    "napari.run()"
   ]
  }
 ],
 "metadata": {
  "kernelspec": {
   "display_name": "Python 3",
   "language": "python",
   "name": "python3"
  },
  "language_info": {
   "codemirror_mode": {
    "name": "ipython",
    "version": 3
   },
   "file_extension": ".py",
   "mimetype": "text/x-python",
   "name": "python",
   "nbconvert_exporter": "python",
   "pygments_lexer": "ipython3",
   "version": "3.12.4"
  }
 },
 "nbformat": 4,
 "nbformat_minor": 2
}
